{
 "cells": [
  {
   "cell_type": "code",
   "execution_count": 1,
   "metadata": {},
   "outputs": [],
   "source": [
    "import requests\n",
    "import pandas as pd\n",
    "import datetime as dt"
   ]
  },
  {
   "cell_type": "markdown",
   "metadata": {},
   "source": [
    "# CFPB Mortgage Complaints"
   ]
  },
  {
   "cell_type": "code",
   "execution_count": 2,
   "metadata": {},
   "outputs": [],
   "source": [
    "class MortgageComplaints:\n",
    "    def __init__(self, with_dates=True, with_narrative=False):\n",
    "        self._dates_narrs = [with_dates, with_narrative]\n",
    "        self.start_date = dt.date.today() - dt.timedelta(3) - dt.timedelta(365 * 3)\n",
    "        self.end_date = dt.date.today() - dt.timedelta(2)\n",
    "        self.url = self._make_url(with_dates, with_narrative)\n",
    "\n",
    "    def _make_url(self, with_dates, with_narrative):\n",
    "        product_name = \"Mortgage\"\n",
    "        result_max = 10000\n",
    "        optional_type = \"&tab=list\"\n",
    "        sort_by = \"created_date_desc\"\n",
    "        fields = \"all\"\n",
    "        if with_dates:\n",
    "            url = f\"\"\"https://www.consumerfinance.gov/data-research/consumer-complaints/search/api/v1/?date_received_max={self.end_date}&date_received_min={self.start_date}\\\n",
    "&field={fields}&product={product_name}&size={result_max}&sort={sort_by}{optional_type}\"\"\"\n",
    "        else:\n",
    "            start_date = \"2011-12-01\"\n",
    "            url = f\"\"\"https://www.consumerfinance.gov/data-research/consumer-complaints/search/api/v1/?date_received_max={self.end_date}&date_received_min={start_date}\\\n",
    "&field={fields}&product={product_name}&size={result_max}&sort={sort_by}{optional_type}\"\"\"\n",
    "        if with_narrative:\n",
    "            url += \"&has_narrative=true\"\n",
    "        return url\n",
    "    \n",
    "    def setDates(self, start_date, end_date):\n",
    "        self.start_date = start_date\n",
    "        self.end_date = end_date\n",
    "        self._dates_narrs[0] = True\n",
    "        self.url = self._make_url(*self._dates_narrs)\n",
    "        \n",
    "    def getData(self):\n",
    "        response = requests.get(self.url)\n",
    "        data = response.json()\n",
    "        df = pd.DataFrame([y['_source'] for y in data[\"hits\"][\"hits\"]])\n",
    "        return df "
   ]
  },
  {
   "cell_type": "code",
   "execution_count": 3,
   "metadata": {},
   "outputs": [],
   "source": [
    "mc = MortgageComplaints()"
   ]
  },
  {
   "cell_type": "markdown",
   "metadata": {},
   "source": [
    "### By date chunks"
   ]
  },
  {
   "cell_type": "code",
   "execution_count": 4,
   "metadata": {},
   "outputs": [
    {
     "name": "stdout",
     "output_type": "stream",
     "text": [
      "Q1 2019: 5532 True\n",
      "Q2 2019: 5795 True\n",
      "Q3 2019: 5904 True\n",
      "Q4 2019: 5473 True\n",
      "Q1 2020: 5797 True\n",
      "Q2 2020: 6114 True\n",
      "Q3 2020: 6554 True\n",
      "Q4 2020: 6190 True\n",
      "Q1 2021: 7436 True\n",
      "Q2 2021: 7018 True\n",
      "Q3 2021: 6108 True\n",
      "Q4 2021: 5972 True\n",
      "Q1 2022: 6935 True\n",
      "Q2 2022: 5861 True\n",
      "Q3 2022: 5524 True\n",
      "Q4 2022: 4968 True\n",
      "Q1 2023: 7180 True\n",
      "Q2 2023: 5248 True\n",
      "Q3 2023: 5111 True\n",
      "Q4 2023: 5319 True\n"
     ]
    }
   ],
   "source": [
    "start_stops = [\n",
    "    # 2019\n",
    "    (\"2019-01-01\", \"2019-03-31\"),\n",
    "    (\"2019-04-01\", \"2019-06-30\"),\n",
    "    (\"2019-07-01\", \"2019-09-30\"),\n",
    "    (\"2019-10-01\", \"2019-12-31\"),\n",
    "    # 2020\n",
    "    (\"2020-01-01\", \"2020-03-31\"),\n",
    "    (\"2020-04-01\", \"2020-06-30\"),\n",
    "    (\"2020-07-01\", \"2020-09-30\"),\n",
    "    (\"2020-10-01\", \"2020-12-31\"),\n",
    "    # 2021\n",
    "    (\"2021-01-01\", \"2021-03-31\"),\n",
    "    (\"2021-04-01\", \"2021-06-30\"),\n",
    "    (\"2021-07-01\", \"2021-09-30\"),\n",
    "    (\"2021-10-01\", \"2021-12-31\"),\n",
    "    # 2022\n",
    "    (\"2022-01-01\", \"2022-03-31\"),\n",
    "    (\"2022-04-01\", \"2022-06-30\"),\n",
    "    (\"2022-07-01\", \"2022-09-30\"),\n",
    "    (\"2022-10-01\", \"2022-12-31\"),\n",
    "    # 2023\n",
    "    (\"2023-01-01\", \"2023-03-31\"),\n",
    "    (\"2023-04-01\", \"2023-06-30\"),\n",
    "    (\"2023-07-01\", \"2023-09-30\"),\n",
    "    (\"2023-10-01\", \"2023-12-31\"),\n",
    "]\n",
    "\n",
    "df = pd.DataFrame()\n",
    "\n",
    "i = 1\n",
    "for start_stop in start_stops:\n",
    "    mc.setDates(*start_stop)\n",
    "    temp = mc.getData()\n",
    "    # ensure results are under max result count\n",
    "    print(f\"Q{i} {start_stop[0][:4]}:\", len(temp), len(temp) <= 10000)\n",
    "    df = pd.concat([df, temp])\n",
    "    i += 1\n",
    "    if i > 4:\n",
    "        i = 1"
   ]
  },
  {
   "cell_type": "markdown",
   "metadata": {},
   "source": [
    "### Clean df"
   ]
  },
  {
   "cell_type": "code",
   "execution_count": 5,
   "metadata": {},
   "outputs": [],
   "source": [
    "df.drop(columns=[\"product\", \"has_narrative\", \"submitted_via\", \"consumer_disputed\"], inplace=True)\n",
    "df['complaint_what_happened'] = df.complaint_what_happened.replace(\"\", None)\n",
    "df['zip_code'] = df.zip_code.astype('str')"
   ]
  },
  {
   "cell_type": "markdown",
   "metadata": {},
   "source": [
    "### Save data"
   ]
  },
  {
   "cell_type": "code",
   "execution_count": 6,
   "metadata": {},
   "outputs": [],
   "source": [
    "df.to_excel('./raw_data/MortgageComplaints.xlsx', index=False)"
   ]
  }
 ],
 "metadata": {
  "kernelspec": {
   "display_name": "base",
   "language": "python",
   "name": "python3"
  },
  "language_info": {
   "codemirror_mode": {
    "name": "ipython",
    "version": 3
   },
   "file_extension": ".py",
   "mimetype": "text/x-python",
   "name": "python",
   "nbconvert_exporter": "python",
   "pygments_lexer": "ipython3",
   "version": "3.11.4"
  }
 },
 "nbformat": 4,
 "nbformat_minor": 2
}
